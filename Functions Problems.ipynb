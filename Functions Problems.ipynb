{
 "cells": [
  {
   "cell_type": "markdown",
   "id": "lightweight-recorder",
   "metadata": {},
   "source": [
    "# Task 3 Registration Id:SIRSS1212 Name:Dipali Goyal"
   ]
  },
  {
   "cell_type": "markdown",
   "id": "supreme-viking",
   "metadata": {},
   "source": [
    "# Q1. Write a function to return nth term of Fibonacci sequence."
   ]
  },
  {
   "cell_type": "code",
   "execution_count": 1,
   "id": "rough-melbourne",
   "metadata": {},
   "outputs": [
    {
     "name": "stdout",
     "output_type": "stream",
     "text": [
      "Enter the limit of number: 10\n",
      "\n",
      " The term of the fibonacci sequence is 34\n"
     ]
    }
   ],
   "source": [
    "def fibonacci(n):\n",
    "    if n < 0:\n",
    "        print(\"Number is Negative!\")\n",
    "    elif n == 1:\n",
    "        return 0\n",
    "    elif n==2:\n",
    "        return 1\n",
    "    else:\n",
    "        return fibonacci(n-1)+fibonacci(n-2)\n",
    "    \n",
    "num = int(input(\"Enter the limit of number: \"))\n",
    "print(\"\\n The term of the fibonacci sequence is\",fibonacci(num))"
   ]
  },
  {
   "cell_type": "markdown",
   "id": "freelance-advance",
   "metadata": {},
   "source": [
    "# Q2. Write a function to find out GCD of two numbers using EUCLID'S algorithm."
   ]
  },
  {
   "cell_type": "code",
   "execution_count": 2,
   "id": "extended-appliance",
   "metadata": {},
   "outputs": [
    {
     "name": "stdout",
     "output_type": "stream",
     "text": [
      "Enter the number 1: 20\n",
      "Enter the number 2: 4\n",
      "The GCD of 20 and 4 is 4\n"
     ]
    }
   ],
   "source": [
    "def gcd(x,y):\n",
    "    if(y==0):\n",
    "        return x\n",
    "    else:\n",
    "        return gcd(y,x%y)\n",
    "\n",
    "num1 = int(input(\"Enter the number 1: \"))\n",
    "num2 = int(input(\"Enter the number 2: \"))\n",
    "print(\"The GCD of\",num1,\"and\",num2,\"is\",gcd(num1,num2))"
   ]
  },
  {
   "cell_type": "markdown",
   "id": "creative-infrastructure",
   "metadata": {},
   "source": [
    "# Q3. Write a function to find LCM of two number in most optimizers way."
   ]
  },
  {
   "cell_type": "code",
   "execution_count": 3,
   "id": "traditional-spouse",
   "metadata": {},
   "outputs": [
    {
     "name": "stdout",
     "output_type": "stream",
     "text": [
      "Enter the number 1: 12\n",
      "Enter the number 2: 36\n",
      "The LCM of 12 and 36 is 36\n"
     ]
    }
   ],
   "source": [
    "def gcd(m,n):\n",
    "    if m==0:\n",
    "        return n\n",
    "    else:\n",
    "        return(gcd(n%m,m))\n",
    "    \n",
    "def lcm(m,n):\n",
    "    lcm=m*n//gcd(m,n)\n",
    "    return lcm\n",
    "\n",
    "num1 = int(input(\"Enter the number 1: \"))\n",
    "num2 = int(input(\"Enter the number 2: \"))\n",
    "print(\"The LCM of\",num1,\"and\",num2,\"is\",lcm(num1,num2))\n"
   ]
  },
  {
   "cell_type": "code",
   "execution_count": null,
   "id": "parliamentary-trance",
   "metadata": {},
   "outputs": [],
   "source": []
  }
 ],
 "metadata": {
  "kernelspec": {
   "display_name": "Python 3",
   "language": "python",
   "name": "python3"
  },
  "language_info": {
   "codemirror_mode": {
    "name": "ipython",
    "version": 3
   },
   "file_extension": ".py",
   "mimetype": "text/x-python",
   "name": "python",
   "nbconvert_exporter": "python",
   "pygments_lexer": "ipython3",
   "version": "3.8.5"
  }
 },
 "nbformat": 4,
 "nbformat_minor": 5
}
