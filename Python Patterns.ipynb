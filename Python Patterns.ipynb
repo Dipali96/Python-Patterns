{
 "cells": [
  {
   "cell_type": "markdown",
   "id": "ambient-rebecca",
   "metadata": {},
   "source": [
    "# Task 1\n",
    "# Registration Id:SIRSS1212\n",
    "# Name:Dipali Goyal"
   ]
  },
  {
   "cell_type": "markdown",
   "id": "dying-income",
   "metadata": {},
   "source": [
    "# Pattern 1\n",
    "    5 5 5 5 5\n",
    "    5 5 5 5\n",
    "    5 5 5\n",
    "    5 5\n",
    "    5"
   ]
  },
  {
   "cell_type": "code",
   "execution_count": 1,
   "id": "primary-gamma",
   "metadata": {},
   "outputs": [
    {
     "name": "stdout",
     "output_type": "stream",
     "text": [
      "Enter the number of rows: 5\n",
      "5 5 5 5 5  \n",
      "5 5 5 5  \n",
      "5 5 5  \n",
      "5 5  \n",
      "5  \n",
      " \n"
     ]
    }
   ],
   "source": [
    "n = int(input(\"Enter the number of rows: \"))   \n",
    "for i in range(n + 1, 0, -1):    \n",
    "    for j in range(0, i - 1):  \n",
    "        print(\"5\", end=' ')  \n",
    "    print(\" \")  "
   ]
  },
  {
   "cell_type": "markdown",
   "id": "typical-advance",
   "metadata": {},
   "source": [
    "# Pattern 2\n",
    "    0 1 2 3 4 5\n",
    "    0 1 2 3 4\n",
    "    0 1 2 3\n",
    "    0 1 2\n",
    "    0 1\n"
   ]
  },
  {
   "cell_type": "code",
   "execution_count": 2,
   "id": "pressing-american",
   "metadata": {},
   "outputs": [
    {
     "name": "stdout",
     "output_type": "stream",
     "text": [
      "Enter the number of rows: 5\n",
      "0 1 2 3 4 5  \n",
      "0 1 2 3 4  \n",
      "0 1 2 3  \n",
      "0 1 2  \n",
      "0 1  \n",
      "0  \n",
      " \n"
     ]
    }
   ],
   "source": [
    "n = int(input(\"Enter the number of rows: \"))   \n",
    "for i in range(n + 2, 0, -1):    \n",
    "    for j in range(0, i - 1):  \n",
    "        print(j, end=' ')  \n",
    "    print(\" \") "
   ]
  },
  {
   "cell_type": "markdown",
   "id": "established-sauce",
   "metadata": {},
   "source": [
    "# Pattern 3\n",
    "    1\n",
    "    3 3\n",
    "    5 5 5\n",
    "    7 7 7 7\n",
    "    9 9 9 9 9"
   ]
  },
  {
   "cell_type": "code",
   "execution_count": 3,
   "id": "ordered-discretion",
   "metadata": {},
   "outputs": [
    {
     "name": "stdout",
     "output_type": "stream",
     "text": [
      "Enter the number of rows: 5\n",
      "1 \n",
      "3 3 \n",
      "5 5 5 \n",
      "7 7 7 7 \n",
      "9 9 9 9 9 \n"
     ]
    }
   ],
   "source": [
    "n = int(input(\"Enter the number of rows: \"))  \n",
    "i = 1   \n",
    "while i <= n:  \n",
    "    j = 1   \n",
    "    while j <= i:   \n",
    "        print((i * 2 - 1), end=\" \")  \n",
    "        j = j + 1  \n",
    "    i = i + 1  \n",
    "    print()  "
   ]
  },
  {
   "cell_type": "markdown",
   "id": "taken-battlefield",
   "metadata": {},
   "source": [
    "# Pattern 4\n",
    "    1\n",
    "    2 1\n",
    "    3 2 1\n",
    "    4 3 2 1\n",
    "    5 4 3 2 1"
   ]
  },
  {
   "cell_type": "code",
   "execution_count": 4,
   "id": "pregnant-lease",
   "metadata": {},
   "outputs": [
    {
     "name": "stdout",
     "output_type": "stream",
     "text": [
      "Enter the number of rows: 5\n",
      "1 \n",
      "2 1 \n",
      "3 2 1 \n",
      "4 3 2 1 \n",
      "5 4 3 2 1 \n"
     ]
    }
   ],
   "source": [
    "n = int(input(\"Enter the number of rows: \"))  \n",
    "for i in range (1,n+1):\n",
    "    for j in range(i,0,-1):\n",
    "        print(j,end=\" \")\n",
    "    print()"
   ]
  },
  {
   "cell_type": "markdown",
   "id": "spiritual-tamil",
   "metadata": {},
   "source": [
    "# Pattern 5\n",
    "    1\n",
    "    3 2\n",
    "    6 5 4\n",
    "    10 9 8 7"
   ]
  },
  {
   "cell_type": "code",
   "execution_count": 5,
   "id": "white-address",
   "metadata": {},
   "outputs": [
    {
     "name": "stdout",
     "output_type": "stream",
     "text": [
      "1  \n",
      "3 2  \n",
      "6 5 4  \n",
      "10 9 8 7  \n"
     ]
    }
   ],
   "source": [
    "start = 1\n",
    "\n",
    "stop = 2\n",
    "\n",
    "currentNumber = stop\n",
    "\n",
    "for row in range(2, 6):\n",
    "\n",
    "    for col in range(start, stop):\n",
    "\n",
    "        currentNumber -= 1\n",
    "\n",
    "        print(currentNumber, end=\" \")\n",
    "\n",
    "    print(\" \")\n",
    "\n",
    "    start = stop\n",
    "\n",
    "    stop += row\n",
    "\n",
    "    currentNumber = stop"
   ]
  },
  {
   "cell_type": "markdown",
   "id": "atmospheric-state",
   "metadata": {},
   "source": [
    "# Pattern 6\n",
    "    1\n",
    "    1 1\n",
    "    1 2 1\n",
    "    1 3 3 1\n",
    "    1 4 6 4 1\n",
    "    1 5 10 10 5 1\n",
    "    1 6 15 20 15 6 1"
   ]
  },
  {
   "cell_type": "code",
   "execution_count": 6,
   "id": "portable-sight",
   "metadata": {},
   "outputs": [
    {
     "name": "stdout",
     "output_type": "stream",
     "text": [
      "Enter the number of rows: 6\n",
      " 1\n",
      " 1 1\n",
      " 1 2 1\n",
      " 1 3 3 1\n",
      " 1 4 6 4 1\n",
      " 1 5 10 10 5 1\n",
      " 1 6 15 20 15 6 1\n"
     ]
    }
   ],
   "source": [
    "n = int(input(\"Enter the number of rows: \"))  \n",
    "for i in range(1, n+2):\n",
    "    a=1\n",
    "    for j in range(1, i+1):\n",
    "        print(' ', a, sep='', end='')\n",
    "        a= a*(i - j) // j\n",
    "    print()"
   ]
  },
  {
   "cell_type": "markdown",
   "id": "neutral-settle",
   "metadata": {},
   "source": [
    "# Pattern 7\n",
    "    1 2 3 4 5\n",
    "    2 2 3 4 5\n",
    "    3 3 3 4 5\n",
    "    4 4 4 4 5\n",
    "    5 5 5 5 5"
   ]
  },
  {
   "cell_type": "code",
   "execution_count": 7,
   "id": "utility-astronomy",
   "metadata": {},
   "outputs": [
    {
     "name": "stdout",
     "output_type": "stream",
     "text": [
      "Enter the number of rows: 5\n",
      "1 2 3 4 5 \n",
      "2 2 3 4 5 \n",
      "3 3 3 4 5 \n",
      "4 4 4 4 5 \n",
      "5 5 5 5 5 \n"
     ]
    }
   ],
   "source": [
    "n = int(input(\"Enter the number of rows: \"))  \n",
    "for i in range(1, n + 1):  \n",
    "    for j in range(1, n + 1):  \n",
    "        if j <= i:  \n",
    "            print(i, end=' ')  \n",
    "        else:  \n",
    "            print(j, end=' ')  \n",
    "    print() "
   ]
  },
  {
   "cell_type": "markdown",
   "id": "competent-guest",
   "metadata": {},
   "source": [
    "# Pattern 8\n",
    "    1\n",
    "    2 4\n",
    "    3 6 9\n",
    "    4 8 12 16\n",
    "    5 10 15 20 25\n",
    "    6 12 18 24 30 36\n",
    "    7 14 21 28 35 42 49\n",
    "    8 16 24 32 40 48 56 64"
   ]
  },
  {
   "cell_type": "code",
   "execution_count": 8,
   "id": "reliable-peace",
   "metadata": {},
   "outputs": [
    {
     "name": "stdout",
     "output_type": "stream",
     "text": [
      "Enter the number of rows: 8\n",
      "1 \n",
      "2 4 \n",
      "3 6 9 \n",
      "4 8 12 16 \n",
      "5 10 15 20 25 \n",
      "6 12 18 24 30 36 \n",
      "7 14 21 28 35 42 49 \n",
      "8 16 24 32 40 48 56 64 \n"
     ]
    }
   ],
   "source": [
    "n = int(input(\"Enter the number of rows: \")) \n",
    "for i in range(1, n+1):\n",
    "\n",
    "    for j in range(1, i + 1):\n",
    "\n",
    "        print(i * j, end=' ')\n",
    "\n",
    "    print()"
   ]
  },
  {
   "cell_type": "markdown",
   "id": "specified-territory",
   "metadata": {},
   "source": [
    "# Pattern 9\n",
    "        * * * * * *\n",
    "         * * * * *\n",
    "          * * * *\n",
    "           * * *\n",
    "            * *\n",
    "             *\n"
   ]
  },
  {
   "cell_type": "code",
   "execution_count": 9,
   "id": "satellite-riverside",
   "metadata": {},
   "outputs": [
    {
     "name": "stdout",
     "output_type": "stream",
     "text": [
      "Enter the number of rows: 5\n",
      "        * * * * * *  \n",
      "         * * * * *  \n",
      "          * * * *  \n",
      "           * * *  \n",
      "            * *  \n",
      "             *  \n"
     ]
    }
   ],
   "source": [
    "n = int(input(\"Enter the number of rows: \")) \n",
    "k = 2*n-2\n",
    "for i in range(n, -1, -1):\n",
    "    for j in range(k, 0, -1):\n",
    "        print(end=\" \")\n",
    "    k = k + 1\n",
    "    for j in range(0, i + 1):\n",
    "        print(\"*\", end=\" \")\n",
    "    print(\" \")"
   ]
  },
  {
   "cell_type": "markdown",
   "id": "powerful-dodge",
   "metadata": {},
   "source": [
    "# Pattern 10\n",
    "                *\n",
    "               * *\n",
    "              * * *\n",
    "             * * * *\n",
    "            * * * * *\n",
    "           * * * * * *\n",
    "          * * * * * * *"
   ]
  },
  {
   "cell_type": "code",
   "execution_count": 10,
   "id": "related-license",
   "metadata": {},
   "outputs": [
    {
     "name": "stdout",
     "output_type": "stream",
     "text": [
      "Enter the number of rows: 8\n",
      "              *  \n",
      "             * *  \n",
      "            * * *  \n",
      "           * * * *  \n",
      "          * * * * *  \n",
      "         * * * * * *  \n",
      "        * * * * * * *  \n",
      "       * * * * * * * *  \n"
     ]
    }
   ],
   "source": [
    "n = int(input(\"Enter the number of rows: \")) \n",
    "k = 2*n-2\n",
    "for i in range(0,n):\n",
    "    for j in range(0,k):\n",
    "        print(end=\" \")\n",
    "    k = k - 1\n",
    "    for j in range(0, i + 1):\n",
    "        print(\"*\", end=\" \")\n",
    "    print(\" \")"
   ]
  },
  {
   "cell_type": "markdown",
   "id": "limiting-conditioning",
   "metadata": {},
   "source": [
    "# Pattern 11\n",
    "\n",
    "    *\n",
    "    * *\n",
    "    * * *\n",
    "    * * * *\n",
    "    * * * * *\n",
    "    * * * * * *\n",
    "    \n",
    "    * * * * * *\n",
    "    * * * * *\n",
    "    * * * *\n",
    "    * * *\n",
    "    * *\n",
    "    *\n",
    "\n"
   ]
  },
  {
   "cell_type": "code",
   "execution_count": 11,
   "id": "preliminary-african",
   "metadata": {},
   "outputs": [
    {
     "name": "stdout",
     "output_type": "stream",
     "text": [
      "Enter the number of rows: 5\n",
      "* \n",
      "* * \n",
      "* * * \n",
      "* * * * \n",
      "* * * * * \n",
      "    \n",
      "* * * * * \n",
      "* * * * \n",
      "* * * \n",
      "* * \n",
      "* \n",
      "\n"
     ]
    }
   ],
   "source": [
    "n = int(input(\"Enter the number of rows: \"))\n",
    "for i in range (0,n):\n",
    "    for j in range(0,i+1):\n",
    "        print(\"*\",end=\" \")\n",
    "    print()\n",
    "\n",
    "for i in range (1):\n",
    "    for j in range(2):\n",
    "        print(\" \",end=\" \")\n",
    "    print()\n",
    "    \n",
    "for i in range (n+1,0,-1):\n",
    "    for j in range(0,i-1):\n",
    "        print(\"*\",end=\" \")\n",
    "    print()"
   ]
  },
  {
   "cell_type": "markdown",
   "id": "sacred-favor",
   "metadata": {},
   "source": [
    "# Pattern 12\n",
    "    *\n",
    "    * *\n",
    "    * * *\n",
    "    * * * *\n",
    "    * * * * *\n",
    "    * * * * * *\n",
    "    * * * * *\n",
    "    * * * *\n",
    "    * * *\n",
    "    * *\n",
    "    *\n",
    "\n"
   ]
  },
  {
   "cell_type": "code",
   "execution_count": 12,
   "id": "moved-equipment",
   "metadata": {},
   "outputs": [
    {
     "name": "stdout",
     "output_type": "stream",
     "text": [
      "Enter the number of rows: 6\n",
      "* \n",
      "* * \n",
      "* * * \n",
      "* * * * \n",
      "* * * * * \n",
      "* * * * * * \n",
      "* * * * * * * \n",
      "* * * * * * \n",
      "* * * * * \n",
      "* * * * \n",
      "* * * \n",
      "* * \n",
      "* \n",
      "\n"
     ]
    }
   ],
   "source": [
    "n = int(input(\"Enter the number of rows: \"))\n",
    "for i in range (0,n):\n",
    "    for j in range(0,i+1):\n",
    "        print(\"*\",end=\" \")\n",
    "    print()\n",
    "for i in range (n+2,0,-1):\n",
    "    for j in range(0,i-1):\n",
    "        print(\"*\",end=\" \")\n",
    "    print()"
   ]
  },
  {
   "cell_type": "markdown",
   "id": "white-constant",
   "metadata": {},
   "source": [
    "# Pattern 13\n",
    "  \n",
    "            * \n",
    "          * * \n",
    "        * * * \n",
    "      * * * * \n",
    "    * * * * * \n",
    "      * * * * \n",
    "        * * * \n",
    "          * * \n",
    "            * "
   ]
  },
  {
   "cell_type": "code",
   "execution_count": 13,
   "id": "powerful-values",
   "metadata": {},
   "outputs": [
    {
     "name": "stdout",
     "output_type": "stream",
     "text": [
      "Enter the number of rows: 6\n",
      "            \n",
      "          * \n",
      "        * * \n",
      "      * * * \n",
      "    * * * * \n",
      "  * * * * * \n",
      "* * * * * * \n",
      "  * * * * * \n",
      "    * * * * \n",
      "      * * * \n",
      "        * * \n",
      "          * \n",
      "            \n"
     ]
    }
   ],
   "source": [
    "n = int(input(\"Enter the number of rows: \"))  \n",
    "for i in range(0,n+1):  \n",
    "    for j in range(n,0,-1):\n",
    "        if j > i:\n",
    "            print(\" \", end=' ')\n",
    "        else:\n",
    "            print(\"*\", end=' ')\n",
    "    print()\n",
    "for i in range(1,n+1):\n",
    "    for j in range(1, n + 1):\n",
    "        if(j < i+1):\n",
    "            print(' ', end = ' ')\n",
    "        else:\n",
    "            print('*', end = ' ')\n",
    "    print()"
   ]
  },
  {
   "cell_type": "markdown",
   "id": "latin-county",
   "metadata": {},
   "source": [
    "# Pattern 14\n",
    "    *********\n",
    "     *******\n",
    "      *****\n",
    "       ***\n",
    "        *\n",
    "       ***\n",
    "      *****\n",
    "     *******\n",
    "    *********"
   ]
  },
  {
   "cell_type": "code",
   "execution_count": 14,
   "id": "advised-begin",
   "metadata": {},
   "outputs": [
    {
     "name": "stdout",
     "output_type": "stream",
     "text": [
      "Enter the number of rows: 6\n",
      "***********\n",
      " *********\n",
      "  *******\n",
      "   *****\n",
      "    ***\n",
      "     *\n",
      "    ***\n",
      "   *****\n",
      "  *******\n",
      " *********\n",
      "***********\n"
     ]
    }
   ],
   "source": [
    "n = int(input(\"Enter the number of rows: \"))  \n",
    "for i in range(n, 0, -1):\n",
    "    for j in range(n-i):\n",
    "        print(\" \", end=\"\")\n",
    "    for j in range(1, 2*i):\n",
    "        print(\"*\", end=\"\")\n",
    "    print()\n",
    "for i in range(2,n+1):\n",
    "    for j in range(n-i):\n",
    "        print(\" \", end=\"\")\n",
    "    for j in range(1, 2*i):\n",
    "        print(\"*\", end=\"\")\n",
    "    print()  "
   ]
  },
  {
   "cell_type": "markdown",
   "id": "circular-atlantic",
   "metadata": {},
   "source": [
    "# Pattern 15\n",
    "    **************** \n",
    "    *******__******* \n",
    "    ******____****** \n",
    "    *****______***** \n",
    "    ****________**** \n",
    "    ***__________*** \n",
    "    **____________** \n",
    "    *______________*\n"
   ]
  },
  {
   "cell_type": "code",
   "execution_count": 15,
   "id": "separate-travel",
   "metadata": {},
   "outputs": [
    {
     "name": "stdout",
     "output_type": "stream",
     "text": [
      "Enter the number of rows: 14\n",
      "**************\n",
      "******__******\n",
      "*****____*****\n",
      "****______****\n",
      "***________***\n",
      "**__________**\n",
      "*____________*\n"
     ]
    }
   ],
   "source": [
    "n = int(input(\"Enter the number of rows: \"))  \n",
    "print(\"*\" * n, end=\"\\n\")\n",
    "i = (n // 2) - 1\n",
    "j = 2\n",
    "while i != 0:\n",
    "    while j <= (n - 2):\n",
    "        print(\"*\" * i, end=\"\")\n",
    "        print(\"_\" * j, end=\"\")\n",
    "        print(\"*\" * i, end=\"\\n\")\n",
    "        i = i - 1\n",
    "        j = j + 2"
   ]
  },
  {
   "cell_type": "code",
   "execution_count": null,
   "id": "lyric-candy",
   "metadata": {},
   "outputs": [],
   "source": []
  }
 ],
 "metadata": {
  "kernelspec": {
   "display_name": "Python 3",
   "language": "python",
   "name": "python3"
  },
  "language_info": {
   "codemirror_mode": {
    "name": "ipython",
    "version": 3
   },
   "file_extension": ".py",
   "mimetype": "text/x-python",
   "name": "python",
   "nbconvert_exporter": "python",
   "pygments_lexer": "ipython3",
   "version": "3.8.5"
  }
 },
 "nbformat": 4,
 "nbformat_minor": 5
}
