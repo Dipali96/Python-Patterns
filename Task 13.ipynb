{
 "cells": [
  {
   "cell_type": "markdown",
   "id": "fitted-thickness",
   "metadata": {},
   "source": [
    "# Task 13 Reg id : SIRSS1212  Name : Dipali Goyal"
   ]
  },
  {
   "cell_type": "markdown",
   "id": "alpine-radius",
   "metadata": {},
   "source": [
    "# Q1. Given a square matrix, turn it by 90 degrees in a clockwise direction without using any extra space."
   ]
  },
  {
   "cell_type": "code",
   "execution_count": 1,
   "id": "confirmed-desert",
   "metadata": {},
   "outputs": [],
   "source": [
    "def rotate90Clockwise(A):\n",
    "    N = len(A[0])\n",
    "    for i in range(N // 2):\n",
    "        for j in range(i, N - i - 1):\n",
    "            temp = A[i][j]\n",
    "            A[i][j] = A[N - 1 - j][i]\n",
    "            A[N - 1 - j][i] = A[N - 1 - i][N - 1 - j]\n",
    "            A[N - 1 - i][N - 1 - j] = A[j][N - 1 - i]\n",
    "            A[j][N - 1 - i] = temp\n",
    "\n",
    "def printMatrix(A):\n",
    "    N = len(A[0])\n",
    "    for i in range(N):\n",
    "        print(A[i])"
   ]
  },
  {
   "cell_type": "code",
   "execution_count": 2,
   "id": "consecutive-brake",
   "metadata": {},
   "outputs": [
    {
     "name": "stdout",
     "output_type": "stream",
     "text": [
      "[7, 4, 1]\n",
      "[8, 5, 2]\n",
      "[9, 6, 3]\n"
     ]
    }
   ],
   "source": [
    "\n",
    "A = [[1,2,3],\n",
    "    [4,5,6],\n",
    "    [7,8,9]]\n",
    "rotate90Clockwise(A)\n",
    "printMatrix(A)"
   ]
  },
  {
   "cell_type": "markdown",
   "id": "modern-teach",
   "metadata": {},
   "source": [
    "# Q2. Given a string S, check if it is palindrome or not."
   ]
  },
  {
   "cell_type": "code",
   "execution_count": 3,
   "id": "spare-buyer",
   "metadata": {},
   "outputs": [],
   "source": [
    "def isPalindrome(s):\n",
    "    if s == s[::-1]:\n",
    "        return 1\n",
    "    return 0"
   ]
  },
  {
   "cell_type": "code",
   "execution_count": 5,
   "id": "ambient-bahamas",
   "metadata": {},
   "outputs": [
    {
     "name": "stdout",
     "output_type": "stream",
     "text": [
      "Enter String: MADAM\n"
     ]
    },
    {
     "data": {
      "text/plain": [
       "1"
      ]
     },
     "execution_count": 5,
     "metadata": {},
     "output_type": "execute_result"
    }
   ],
   "source": [
    "\n",
    "s = input(\"Enter String: \")\n",
    "isPalindrome(s)"
   ]
  },
  {
   "cell_type": "markdown",
   "id": "protecting-detail",
   "metadata": {},
   "source": [
    "# Q3. Given an expression string x. Examine whether the pairs and the orders of\n",
    "# “{“,”}”,”(“,”)”,”[“,”]” are correct in exp.\n",
    "# For example, the function should return 'true' for exp = “[()]{}{[()()]()}” and 'false' for exp = “[(])”."
   ]
  },
  {
   "cell_type": "code",
   "execution_count": 6,
   "id": "organic-vessel",
   "metadata": {},
   "outputs": [],
   "source": [
    "\n",
    "def expr(x):\n",
    "    stack = []\n",
    "    for char in x:\n",
    "        if char in [\"(\", \"{\", \"[\"]:\n",
    "            stack.append(char)\n",
    "        else:\n",
    "            if not stack:\n",
    "                return False\n",
    "            current_char = stack.pop()\n",
    "            if current_char == '(':\n",
    "                if char != \")\":\n",
    "                    return False\n",
    "            if current_char == '{':\n",
    "                if char != \"}\":\n",
    "                    return False\n",
    "            if current_char == '[':\n",
    "                if char != \"]\":\n",
    "                    return False\n",
    "    if stack:\n",
    "        return False\n",
    "    return True"
   ]
  },
  {
   "cell_type": "code",
   "execution_count": 7,
   "id": "actual-awareness",
   "metadata": {},
   "outputs": [
    {
     "name": "stdout",
     "output_type": "stream",
     "text": [
      "True\n"
     ]
    }
   ],
   "source": [
    "x = \"{([])}\"\n",
    "if expr(x):\n",
    "    print(\"True\")\n",
    "else:\n",
    "    print(\"False\")"
   ]
  },
  {
   "cell_type": "markdown",
   "id": "alone-sword",
   "metadata": {},
   "source": [
    "# Q4. Problem Statement: Selection of MPCS exams include a fitness test which is conducted\n",
    "# on ground. There will be a batch of 3 trainees, appearing for running test in track for 3\n",
    "# rounds. You need to record their oxygen level after every round. After the trainees are\n",
    "# finished with all rounds, calculate for each trainee his average oxygen level over the 3\n",
    "# rounds and select one with highest oxygen level as the most fit trainee. Thus, if more than\n",
    "# one trainee attains the same highest average level, then all need to be selected.\n",
    "\n",
    "# Display the most fit trainee (or trainees) and the highest average oxygen level.\n",
    "\n",
    "# Note:\n",
    "\n",
    "# The oxygen value entered should not be accepted if it is not in the range between 1 and\n",
    "# 100.\n",
    "# Moreover, if the calculated maximum average oxygen value of trainees is below 70 then\n",
    "# declare the trainees as unfit with meaningful message as “All trainees are unfit”.\n",
    "# Average Oxygen Values should be rounded.\n",
    "\n",
    "# Example 1: INPUT VALUES\n",
    "\n",
    "# 95 // Round One (Oxygen Value of Trainee 1)\n",
    "# 92 // Round One (Oxygen Value of Trainee 1)\n",
    "# 95 // Round One (Oxygen Value of Trainee 1)\n",
    "# 92 // Round Two (Oxygen Value of Trainee 1)\n",
    "# 90 // Round Two (Oxygen Value of Trainee 1)\n",
    "# 92 // Round Two (Oxygen Value of Trainee 1)\n",
    "# 90 // Round Three (Oxygen Value of Trainee 1)\n",
    "# 92 // Round Three (Oxygen Value of Trainee 1)\n",
    "# 90 // Round Three (Oxygen Value of Trainee 1)"
   ]
  },
  {
   "cell_type": "code",
   "execution_count": 8,
   "id": "young-scenario",
   "metadata": {},
   "outputs": [
    {
     "name": "stdout",
     "output_type": "stream",
     "text": [
      "92\n",
      "93\n",
      "95\n",
      "90\n",
      "96\n",
      "97\n",
      "70\n",
      "03\n",
      "95\n",
      "Trainee 2 is unfit\n",
      "Trainee Number:  3\n"
     ]
    }
   ],
   "source": [
    "trainee = [[],[],[],[]]\n",
    "for i in range(3):\n",
    "    for j in range(3):\n",
    "            trainee[i].append(int(input()))\n",
    "            if (trainee[i][-1]) not in range(1,101):\n",
    "                    print(\"invalid input\")\n",
    "for i in range(3):\n",
    "    trainee[3].append((trainee[2][i]+trainee[1][i]+trainee[0][i])//3)\n",
    "maximum = max(trainee[3])\n",
    "for i in range(3):\n",
    "    if trainee[3][i] < 70 :\n",
    "            print(\"Trainee {0} is unfit\".format(i+1))\n",
    "    elif trainee[3][i] == maximum:\n",
    "            print(\"Trainee Number: \",i+1)"
   ]
  }
 ],
 "metadata": {
  "kernelspec": {
   "display_name": "Python 3",
   "language": "python",
   "name": "python3"
  },
  "language_info": {
   "codemirror_mode": {
    "name": "ipython",
    "version": 3
   },
   "file_extension": ".py",
   "mimetype": "text/x-python",
   "name": "python",
   "nbconvert_exporter": "python",
   "pygments_lexer": "ipython3",
   "version": "3.8.5"
  }
 },
 "nbformat": 4,
 "nbformat_minor": 5
}
