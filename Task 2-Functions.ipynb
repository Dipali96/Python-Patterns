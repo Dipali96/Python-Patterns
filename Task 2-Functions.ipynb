{
 "cells": [
  {
   "cell_type": "markdown",
   "id": "disciplinary-international",
   "metadata": {},
   "source": [
    "# Task 2\n",
    "# Registration Id:SIRSS1212\n",
    "# Name:Dipali Goyal"
   ]
  },
  {
   "cell_type": "markdown",
   "id": "powerful-associate",
   "metadata": {},
   "source": [
    "## Q1. Write a lambda expression to extract first word of a string."
   ]
  },
  {
   "cell_type": "code",
   "execution_count": 1,
   "id": "entire-aruba",
   "metadata": {},
   "outputs": [
    {
     "name": "stdout",
     "output_type": "stream",
     "text": [
      "Enter a string:\n",
      "Hello World\n",
      "Hello\n"
     ]
    }
   ],
   "source": [
    "s=input(\"Enter a string:\\n\")\n",
    "a = (lambda x:[i for i in x if i[0].isalpha()][0])(s.split())\n",
    "print(a)"
   ]
  },
  {
   "cell_type": "markdown",
   "id": "amino-reality",
   "metadata": {},
   "source": [
    "## Q2. Write a function to extract first word of s string (with many words separated by space)"
   ]
  },
  {
   "cell_type": "code",
   "execution_count": 2,
   "id": "thrown-canal",
   "metadata": {},
   "outputs": [
    {
     "name": "stdout",
     "output_type": "stream",
     "text": [
      "Enter a string:\n",
      "Python is an interpreted high-level general-purpose programming language. Python's design philosophy emphasizes code readability with its notable use of significant indentation.\n"
     ]
    },
    {
     "data": {
      "text/plain": [
       "'Python'"
      ]
     },
     "execution_count": 2,
     "metadata": {},
     "output_type": "execute_result"
    }
   ],
   "source": [
    "s=input(\"Enter a string:\\n\")\n",
    "def firstWord(s):\n",
    "    return s.split()[0]\n",
    "firstWord(s)"
   ]
  },
  {
   "cell_type": "markdown",
   "id": "imperial-parade",
   "metadata": {},
   "source": [
    "## Q3. Extract the first word from every string from a list of strings by using map function."
   ]
  },
  {
   "cell_type": "code",
   "execution_count": 3,
   "id": "excellent-subscriber",
   "metadata": {},
   "outputs": [
    {
     "data": {
      "text/plain": [
       "['Lists', 'They', 'List']"
      ]
     },
     "execution_count": 3,
     "metadata": {},
     "output_type": "execute_result"
    }
   ],
   "source": [
    "l=['Lists are used to store multiple items in a single variable',\n",
    "   'They are created using square brackets',\n",
    "   'List items are ordered, changeable, and allow duplicate values.']\n",
    "list(map(lambda s:s.split()[0],l))"
   ]
  },
  {
   "cell_type": "markdown",
   "id": "sticky-guyana",
   "metadata": {},
   "source": [
    "## Q4. Write a function to return a list of prime factors of a given number."
   ]
  },
  {
   "cell_type": "code",
   "execution_count": 4,
   "id": "dried-sphere",
   "metadata": {},
   "outputs": [
    {
     "name": "stdout",
     "output_type": "stream",
     "text": [
      "Enter a number:100\n",
      "2\n",
      "2\n",
      "5\n",
      "5\n"
     ]
    }
   ],
   "source": [
    "import math\n",
    "n=int(input(\"Enter a number:\"))\n",
    "import math\n",
    "# prime\n",
    "def primeFactors(n):\n",
    "    while n % 2 == 0:   \n",
    "        print (2),\n",
    "        n = n / 2   \n",
    "    for i in range(3,int(math.sqrt(n))+1,2):\n",
    "        while n % i== 0:\n",
    "            print (i)\n",
    "            n = n / i\n",
    "    if n > 2:\n",
    "        print (n)\n",
    "primeFactors(n)"
   ]
  },
  {
   "cell_type": "markdown",
   "id": "whole-planning",
   "metadata": {},
   "source": [
    "## Q5. Write a function that finds 2nd largest among 4 numbers (Repetitions are allowed,  without sorting). "
   ]
  },
  {
   "cell_type": "code",
   "execution_count": 5,
   "id": "alike-rhythm",
   "metadata": {},
   "outputs": [],
   "source": [
    "def secondLargest(num1,num2,num3,num4):\n",
    "    if (num1 >= num2) and (num1 >= num3) and (num1 >= num4):\n",
    "        if (num2 >= num3) and (num2 >= num4):\n",
    "               print('SecondLargest is:' ,num2)\n",
    "        elif (num3 >= num2) and (num3 >= num4):\n",
    "               print('SecondLargest is:' ,num3)\n",
    "        else:\n",
    "               print('SecondLargest is:' ,num4)\n",
    "\n",
    "    elif (num2 >= num1) and (num2 >= num3) and (num2 >= num4):\n",
    "        if (num1 >= num3) and (num1 >= num4):\n",
    "               print('SecondLargest is:' ,num1)\n",
    "        elif (num3 >= num1) and (num3 >= num4):\n",
    "               print('SecondLargest is:' ,num3)\n",
    "        else:\n",
    "               print('SecondLargest is:' ,num4)\n",
    "    \n",
    "    elif (num3>=num1) and (num3>=num2) and (num3>=num4):\n",
    "        if (num1 >= num2) and (num1 >= num4):\n",
    "               print('SecondLargest is:' ,num1)\n",
    "        elif (num2 >= num1) and (num2 >= num4):\n",
    "               print('SecondLargest is:' ,num2)\n",
    "        else:\n",
    "               print('SecondLargest is:' ,num4)\n",
    "                \n",
    "    elif (num4>=num1) and (num4>=num2) and (num4>=num3):\n",
    "        if(num1>=num2) and (num1>=num3):\n",
    "            print('SecondLargest is:' ,num1)\n",
    "        elif (num2 >= num1) and (num2 >= num4):\n",
    "               print('SecondLargest is:' ,num2)\n",
    "        else:\n",
    "            print('SecondLargest is:' ,num3)"
   ]
  },
  {
   "cell_type": "code",
   "execution_count": 6,
   "id": "breeding-essence",
   "metadata": {},
   "outputs": [
    {
     "name": "stdout",
     "output_type": "stream",
     "text": [
      "SecondLargest is: 23\n"
     ]
    }
   ],
   "source": [
    "secondLargest(45,23,10,10)"
   ]
  },
  {
   "cell_type": "code",
   "execution_count": null,
   "id": "widespread-backing",
   "metadata": {},
   "outputs": [],
   "source": []
  }
 ],
 "metadata": {
  "kernelspec": {
   "display_name": "Python 3",
   "language": "python",
   "name": "python3"
  },
  "language_info": {
   "codemirror_mode": {
    "name": "ipython",
    "version": 3
   },
   "file_extension": ".py",
   "mimetype": "text/x-python",
   "name": "python",
   "nbconvert_exporter": "python",
   "pygments_lexer": "ipython3",
   "version": "3.8.5"
  }
 },
 "nbformat": 4,
 "nbformat_minor": 5
}
